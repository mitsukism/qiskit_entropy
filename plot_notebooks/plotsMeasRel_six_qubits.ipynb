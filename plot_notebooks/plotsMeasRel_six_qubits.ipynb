{
 "cells": [
  {
   "cell_type": "code",
   "execution_count": null,
   "id": "0d9b2e48",
   "metadata": {},
   "outputs": [],
   "source": [
    "import numpy as np\n",
    "import cvxpy as cp\n",
    "import scipy as sc\n",
    "import sys\n",
    "import pennylane as qml\n",
    "import torch\n",
    "import torch.nn as nn\n",
    "import torch.nn.functional as Fn\n",
    "import torch.optim as optim\n",
    "from torch.autograd import Variable"
   ]
  },
  {
   "cell_type": "code",
   "execution_count": null,
   "id": "2ee17554",
   "metadata": {},
   "outputs": [],
   "source": [
    "temp_list_nn = cost_func_store_list.copy()\n",
    "# Apply rolling mean to smooth out the convergence\n",
    "rolling_mean = []\n",
    "for i in range(len(temp_list_nn)):\n",
    "    window_size = 200 # Adjust the window size based on your preference\n",
    "    rolling_mean.append(np.convolve(temp_list_nn[i], np.ones(window_size), 'valid') / window_size)\n",
    "    \n",
    "x = np.arange(window_size, len(temp_list_nn[0]) + 1)"
   ]
  },
  {
   "cell_type": "code",
   "execution_count": null,
   "id": "38ceb884",
   "metadata": {},
   "outputs": [],
   "source": [
    "temp_list_no_nn = cost_func_store_list_no_nn.copy()\n",
    "# Apply rolling mean to smooth out the convergence\n",
    "rolling_mean_no_nn = []\n",
    "for i in range(len(temp_list_no_nn)):\n",
    "    window_size = 200 # Adjust the window size based on your preference\n",
    "    rolling_mean_no_nn.append(np.convolve(temp_list_no_nn[i], np.ones(window_size), 'valid') / window_size)\n",
    "    \n",
    "x = np.arange(window_size, len(temp_list_no_nn[0]) + 1)"
   ]
  },
  {
   "cell_type": "code",
   "execution_count": null,
   "id": "639363cb",
   "metadata": {},
   "outputs": [],
   "source": [
    "import sys\n",
    "import matplotlib.pyplot as plt\n",
    "import numpy as np\n",
    "\n",
    "plt.rcParams.update({\n",
    "    \"text.usetex\": False\n",
    "})\n",
    "\n",
    "# Set the style of the plot\n",
    "plt.style.use('seaborn-whitegrid')\n",
    "\n",
    "# Set the size of the figure\n",
    "fig, ax = plt.subplots()\n",
    "\n",
    "\n",
    "\n",
    "mean = np.mean(rolling_mean_no_nn, axis=0)\n",
    "st_dev = np.std(rolling_mean_no_nn, axis=0)\n",
    "mean_nn = np.mean(rolling_mean, axis=0)\n",
    "st_dev_nn = np.std(rolling_mean, axis=0)\n",
    "\n",
    "\n",
    "# Plot the data and customize the appearance\n",
    "ax.plot(mean, linewidth=1.5, color='purple', label='Without CNN')\n",
    "ax.fill_between(range(len(rolling_mean_no_nn[0])), mean-st_dev, mean+st_dev, alpha=0.2, color='plum')\n",
    "\n",
    "ax.plot(mean_nn, linewidth=1.5, color='blue', label='With CNN')\n",
    "ax.fill_between(range(len(rolling_mean[0])), mean_nn-st_dev_nn, mean_nn+st_dev_nn, alpha=0.15, color='darkblue')\n",
    "\n",
    "ax.axhline(y=0.50, marker='o', markersize=1, linestyle='--', linewidth=2, color='deeppink', label='Actual value')\n",
    "\n",
    "# Add a title and axis labels\n",
    "ax.set_xlabel('Epoch', fontsize=20)\n",
    "ax.set_ylabel('Cost Function Value', fontsize=20)\n",
    "\n",
    "# Set the font size of the tick labels on the x and y axes\n",
    "ax.tick_params(axis='x', labelsize=15)\n",
    "ax.tick_params(axis='y', labelsize=15)\n",
    "\n",
    "# Add a legend\n",
    "legend = ax.legend(loc='lower right', fontsize=15, frameon=True, shadow=True)\n",
    "frame = legend.get_frame()\n",
    "# frame.set_facecolor('white')\n",
    "frame.set_alpha(1)\n",
    "\n",
    "# Adjust x-axis limits based on when the lines stop\n",
    "max_length = min(len(mean_nn), len(mean))\n",
    "ax.set_xlim(0, max_length)\n",
    "\n",
    "\n",
    "# Save the plot as a high-resolution PNG image and display it\n",
    "# plt.savefig('vn_plot_2.png', dpi=300)\n",
    "plt.savefig(\"plot_meas_rel_ent_6_qubits_test_2.pdf\", format=\"pdf\", bbox_inches='tight', pad_inches=0.2)\n",
    "plt.show()\n"
   ]
  },
  {
   "cell_type": "code",
   "execution_count": null,
   "id": "7c3b85c4",
   "metadata": {},
   "outputs": [],
   "source": []
  }
 ],
 "metadata": {
  "kernelspec": {
   "display_name": "Python 3 (ipykernel)",
   "language": "python",
   "name": "python3"
  },
  "language_info": {
   "codemirror_mode": {
    "name": "ipython",
    "version": 3
   },
   "file_extension": ".py",
   "mimetype": "text/x-python",
   "name": "python",
   "nbconvert_exporter": "python",
   "pygments_lexer": "ipython3",
   "version": "3.11.0"
  }
 },
 "nbformat": 4,
 "nbformat_minor": 5
}
