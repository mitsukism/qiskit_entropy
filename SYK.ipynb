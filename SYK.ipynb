{
 "cells": [
  {
   "cell_type": "code",
   "execution_count": 2,
   "id": "1b148635",
   "metadata": {},
   "outputs": [],
   "source": [
    "import numpy as np\n",
    "from functools import reduce\n",
    "import math\n",
    "from qiskit import QuantumCircuit, transpile\n",
    "# from qiskit_algorithms import TrotterQRTE, TimeEvolutionProblem\n",
    "from qiskit.quantum_info import Statevector\n",
    "from qiskit.circuit import *\n",
    "from qiskit.quantum_info import SparsePauliOp, Pauli\n",
    "from qiskit.transpiler.preset_passmanagers import generate_preset_pass_manager\n",
    "from qiskit_ibm_runtime import QiskitRuntimeService, Session, Sampler, Estimator\n",
    "from matplotlib import pyplot as plt\n",
    "import scipy.linalg as la\n",
    "\n",
    "\n",
    "service = QiskitRuntimeService()\n",
    "backend = service.backend(\"ibmq_qasm_simulator\")"
   ]
  },
  {
   "cell_type": "code",
   "execution_count": 3,
   "id": "a7bd4e72",
   "metadata": {},
   "outputs": [],
   "source": [
    "def dagger(a):\n",
    "    return np.transpose(a).conj()"
   ]
  },
  {
   "cell_type": "code",
   "execution_count": 4,
   "id": "1c3fa801",
   "metadata": {},
   "outputs": [],
   "source": [
    "def pretty_print_matrix(matrix):\n",
    "    print(('\\n'.join(['\\t'.join([str(cell) for cell in row]) for row in matrix])))"
   ]
  },
  {
   "cell_type": "code",
   "execution_count": 5,
   "id": "90e33de8",
   "metadata": {},
   "outputs": [],
   "source": [
    "def make_Majorana(N):\n",
    "\n",
    "    # Make 'N' Majorana fermions. Set of N Hermitian matrices psi_i, i=1,..N\n",
    "    # obeying anti-commutation relations {psi_i,psi_j} = δ_{ij}\n",
    "    # Note: Not 2δ_{ij}\n",
    "    \n",
    "    X = np.array([[0, 1], [1, 0]])\n",
    "    Y = np.array([[0, -1j], [1j, 0]])\n",
    "    Z = np.array([[1, 0], [0, -1]])\n",
    "    I = np.array([[1, 0], [0, 1]])\n",
    "\n",
    "    psi = dict()\n",
    "\n",
    "    for i in range(1, N+1):\n",
    "\n",
    "        if (i % 2) == 1:\n",
    "            matlist = [Z] * int((i-1)/2)\n",
    "            matlist.append(X)\n",
    "            matlist = matlist + [I] * int((N/2 - (i+1)/2))\n",
    "            psi[i] = 1/np.sqrt(2)*reduce(np.kron, matlist)\n",
    "        else:\n",
    "            matlist = [Z] * int((i - 2) / 2)\n",
    "            matlist.append(Y)\n",
    "            matlist = matlist + [I] * int((N/2 - i/2))\n",
    "            psi[i] = 1/np.sqrt(2)*reduce(np.kron, matlist)\n",
    "\n",
    "\n",
    "    for i in range(1, N+1):\n",
    "        for j in range(1, N+1):\n",
    "\n",
    "            if i != j:\n",
    "                if np.allclose(psi[i] @ psi[j], -psi[j] @ psi[i]) == False:\n",
    "                    print (\"Does not satisfy algebra for i != j\")\n",
    "\n",
    "            if i == j:\n",
    "                if np.allclose(psi[i] @ psi[j] + psi[j] @ psi[i], np.eye(int(2**(N/2)))) == False:\n",
    "                    print (\"Does not satisfy algebra for i = j\")\n",
    "\n",
    "    return psi"
   ]
  },
  {
   "cell_type": "code",
   "execution_count": 6,
   "id": "c31a1214",
   "metadata": {},
   "outputs": [],
   "source": [
    "def make_Hamiltonian(psi, N, instances, J_squared):\n",
    "    \n",
    "    # Creates multiple realisations of the SYK Hamiltonian\n",
    "    # Variance of couplings is given by 'J_squared * 3!/N^3'.\n",
    "\n",
    "    H = 0\n",
    "    J = dict()\n",
    "    J_prob = dict()\n",
    "    sigma_sq = 6.*J_squared/(N**3) # or q!*J_squared/(N**(q-1)) for general q\n",
    "    sigma = math.sqrt(sigma_sq)\n",
    "\n",
    "    for i in range(1, N+1):\n",
    "        for j in range(i+1, N+1):\n",
    "            for k in range(j+1, N+1):\n",
    "                for l in range(k+1, N+1):\n",
    "\n",
    "                    J[i, j, k, l] = np.random.normal(loc=0, scale=sigma,size=1)\n",
    "                    M = psi[i] @ psi[j] @ psi[k] @ psi[l]\n",
    "                    H = H + np.array([element * M for element in J[i, j, k, l]])\n",
    "\n",
    "\n",
    "    if np.allclose(dagger(H[0]), H[0]) == False: \n",
    "        print (\"Hamiltonian is not Hermitian\")\n",
    "         \n",
    "    return H[0] "
   ]
  },
  {
   "cell_type": "code",
   "execution_count": 7,
   "id": "3f8b6f3f",
   "metadata": {},
   "outputs": [],
   "source": [
    "def numberToBase(n, b, n_qubits):\n",
    "    if n == 0:\n",
    "        return np.zeros(n_qubits,dtype=int)\n",
    "    digits = np.zeros(n_qubits,dtype=int)\n",
    "    counter=0\n",
    "    while n:\n",
    "        digits[counter]=int(n % b)\n",
    "        n //= b\n",
    "        counter+=1\n",
    "    return digits[::-1]"
   ]
  },
  {
   "cell_type": "code",
   "execution_count": 8,
   "id": "9d590f9c",
   "metadata": {},
   "outputs": [],
   "source": [
    "def decomposePauli(H):\n",
    "    \n",
    "    sx = np.array([[0, 1],  [ 1, 0]], dtype=np.complex128)\n",
    "    sy = np.array([[0, -1j],[1j, 0]], dtype=np.complex128)\n",
    "    sz = np.array([[1, 0],  [0, -1]], dtype=np.complex128)\n",
    "    id = np.array([[1, 0],  [ 0, 1]], dtype=np.complex128)\n",
    "\n",
    "    labels = ['I', \"X\", \"Y\", \"Z\"]\n",
    "    S = [id, sx, sy, sz]\n",
    "    dim_matrix=np.shape(H)[0]\n",
    "    n_qubits=int(np.log2(dim_matrix))\n",
    "    if(dim_matrix!=2**n_qubits):\n",
    "        raise NameError(\"Matrix is not a power of 2!\")\n",
    "    hilbertspace=2**n_qubits\n",
    "    n_paulis=4**n_qubits\n",
    "    pauli_list=np.zeros([n_paulis,n_qubits],dtype=int)\n",
    "    for k in range(n_paulis):\n",
    "        pauli_list[k,:]=numberToBase(k,4,n_qubits)\n",
    "    weights=np.zeros(n_paulis,dtype=np.complex128)\n",
    "    for k in range(n_paulis):\n",
    "        pauli=S[pauli_list[k][0]]\n",
    "\n",
    "        for n in range(1,n_qubits):\n",
    "            pauli=np.kron(pauli,S[pauli_list[k][n]])\n",
    "        weights[k] = 1/hilbertspace* np.dot(pauli,H).trace()\n",
    "\n",
    "    nnz = [i for i, e in enumerate(weights) if e != 0]\n",
    "    \n",
    "    result_list = []\n",
    "    for i in nnz:\n",
    "\n",
    "        if abs(weights[i]) > 1e-14:\n",
    "            pauli_labels = ''.join([labels[p] for p in pauli_list[i]])\n",
    "            result_list.append((pauli_labels, weights[i].real))\n",
    "    hamiltonian = SparsePauliOp.from_list(result_list)\n",
    "    return hamiltonian"
   ]
  },
  {
   "cell_type": "code",
   "execution_count": 25,
   "id": "5e369d57",
   "metadata": {},
   "outputs": [],
   "source": [
    "N = 6 #must be even\n",
    "initial_state = QuantumCircuit(N/2)\n",
    "\n",
    "initial_state_ED = np.zeros(int(2**(N/2)))\n",
    "initial_state_ED[0] = 1\n",
    "\n",
    "num_timesteps=7\n",
    "dt = 0.5\n",
    "\n",
    "def ED_evolve_state(H, init, dt, num_steps):\n",
    "    eigenvalues, eigenvectors = np.linalg.eig(H)\n",
    "    # diag_mat = np.diag(eigenvalues)\n",
    "    diag_mat_exp = np.diag(np.exp(-1j*dt*eigenvalues))\n",
    "    trans_op = np.array(eigenvectors)\n",
    "    basis_000 = np.zeros(int(2**(N/2)))\n",
    "    basis_000[0] = 1\n",
    "    states = []\n",
    "    probs = []\n",
    "    probs.append(np.abs(np.conj(basis_000) @ init)**2)\n",
    "    state = init\n",
    "    for _ in range(num_steps):\n",
    "        # state = trans_op @ (np.exp(-1j * dt * diag_mat) @ dagger(trans_op)) @ state\n",
    "        state = trans_op @ diag_mat_exp @ dagger(trans_op) @ state\n",
    "        # print(state)\n",
    "        norm_state = state / np.linalg.norm(state)\n",
    "        states.append(norm_state)\n",
    "        prob = np.abs(np.conj(basis_000) @ norm_state)**2\n",
    "        probs.append(prob)\n",
    "        \n",
    "    return probs\n",
    "\n",
    "ferm = make_Majorana(N)\n",
    "H = make_Hamiltonian(ferm, N, 1, 1.)\n",
    "paulis = decomposePauli(H)\n",
    "\n",
    "ED_probs = ED_evolve_state(H, initial_state_ED, dt, num_timesteps)"
   ]
  },
  {
   "cell_type": "code",
   "execution_count": 10,
   "id": "6a3cabc4",
   "metadata": {},
   "outputs": [
    {
     "name": "stderr",
     "output_type": "stream",
     "text": [
      "D:\\veerg\\Anaconda3\\Lib\\site-packages\\qiskit_ibm_runtime\\qiskit_runtime_service.py:1019: UserWarning: Cloud simulators will be deprecated on 15 May 2024. Use the new local testing mode in qiskit-ibm-runtime version 0.22.0 or later to meet your debugging needs.\n",
      "  warnings.warn(warning_message)\n"
     ]
    },
    {
     "name": "stdout",
     "output_type": "stream",
     "text": [
      "TIME:0.5\n",
      "{'011': 0.00016, '110': 0.00105, '000': 0.99734, '101': 0.00145}\n",
      "TIME:1.0\n",
      "{'011': 0.00052, '101': 0.00626, '000': 0.98896, '110': 0.00426}\n",
      "TIME:1.5\n",
      "{'011': 0.00124, '110': 0.00881, '000': 0.9765, '101': 0.01345}\n",
      "TIME:2.0\n",
      "{'011': 0.00279, '101': 0.02524, '000': 0.95636, '110': 0.01561}\n",
      "TIME:2.5\n",
      "{'011': 0.00461, '110': 0.02326, '000': 0.93298, '101': 0.03915}\n",
      "TIME:3.0\n",
      "{'011': 0.00761, '101': 0.05625, '000': 0.90524, '110': 0.0309}\n",
      "TIME:3.5\n",
      "{'011': 0.01034, '101': 0.07465, '110': 0.04117, '000': 0.87384}\n"
     ]
    }
   ],
   "source": [
    "with Session(service, backend) as session:\n",
    "    \n",
    "    state = initial_state\n",
    "    times = [0]\n",
    "    ground_probs = [1]\n",
    "    \n",
    "    for i in range(1,num_timesteps+1):\n",
    "        times.append(dt*i)\n",
    "        evolution_problem = TimeEvolutionProblem(paulis, initial_state=state, time=dt)\n",
    "        trotter_qrte = TrotterQRTE(estimator=Estimator(),num_timesteps=num_timesteps)\n",
    "        evolved_state = trotter_qrte.evolve(evolution_problem).evolved_state\n",
    "        state_temp = evolved_state.copy()\n",
    "        state = evolved_state\n",
    "        # Measure the final state\n",
    "        state_temp.measure_all()\n",
    "\n",
    "        sampler = Sampler()\n",
    "        pm = generate_preset_pass_manager(optimization_level=1, target=backend.target)          \n",
    "        transpiled_circuit = pm.run(state_temp)\n",
    "\n",
    "        result = sampler.run(transpiled_circuit, shots=100000).result()\n",
    "        quasi_dists = result.quasi_dists\n",
    "        ground_probs.append(quasi_dists[0][0])\n",
    "        binary_quasi_dists = quasi_dists[0].binary_probabilities()\n",
    "        \n",
    "        print(\"TIME:\" + str(dt*i))\n",
    "        print(binary_quasi_dists)"
   ]
  },
  {
   "cell_type": "code",
   "execution_count": 11,
   "id": "7b8346b9",
   "metadata": {},
   "outputs": [
    {
     "data": {
      "image/png": "[encoded data removed]",
      "text/plain": [
       "<Figure size 640x480 with 1 Axes>"
      ]
     },
     "metadata": {},
     "output_type": "display_data"
    }
   ],
   "source": [
    "# Assuming ED_probs, ground_probs, and times are defined\n",
    "plt.plot(times, ground_probs, marker='x', label='Ground Probabilities')\n",
    "plt.plot(times, ED_probs, marker='x', label='ED Probabilities')\n",
    "\n",
    "# Adding labels and title\n",
    "plt.xlabel('Time')\n",
    "plt.ylabel('Probability')\n",
    "plt.title('Real Time Evolution with Lie Product Formula')\n",
    "plt.legend()  # Show legend\n",
    "\n",
    "# Display the plot\n",
    "plt.show()"
   ]
  },
  {
   "cell_type": "code",
   "execution_count": null,
   "id": "71f996c5",
   "metadata": {},
   "outputs": [],
   "source": []
  },
  {
   "cell_type": "code",
   "execution_count": null,
   "id": "c172352f",
   "metadata": {},
   "outputs": [],
   "source": []
  }
 ],
 "metadata": {
  "kernelspec": {
   "display_name": "Python 3",
   "language": "python",
   "name": "python3"
  },
  "language_info": {
   "codemirror_mode": {
    "name": "ipython",
    "version": 3
   },
   "file_extension": ".py",
   "mimetype": "text/x-python",
   "name": "python",
   "nbconvert_exporter": "python",
   "pygments_lexer": "ipython3",
   "version": "3.9.17"
  }
 },
 "nbformat": 4,
 "nbformat_minor": 5
}
